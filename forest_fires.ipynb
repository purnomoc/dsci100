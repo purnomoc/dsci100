{
 "cells": [
  {
   "cell_type": "code",
   "execution_count": 2,
   "metadata": {},
   "outputs": [
    {
     "name": "stderr",
     "output_type": "stream",
     "text": [
      "\n",
      "Attaching package: ‘dbplyr’\n",
      "\n",
      "\n",
      "The following objects are masked from ‘package:dplyr’:\n",
      "\n",
      "    ident, sql\n",
      "\n",
      "\n",
      "Warning message:\n",
      "“package ‘RPostgres’ was built under R version 4.0.2”\n",
      "\n",
      "Attaching package: ‘lubridate’\n",
      "\n",
      "\n",
      "The following objects are masked from ‘package:base’:\n",
      "\n",
      "    date, intersect, setdiff, union\n",
      "\n",
      "\n"
     ]
    }
   ],
   "source": [
    "library(tidyverse)\n",
    "library(repr)\n",
    "library(rvest)\n",
    "library(stringr)\n",
    "library(dbplyr)\n",
    "library(DBI)\n",
    "library(RPostgres)\n",
    "library(lubridate)\n",
    "options(repr.matrix.max.rows = 6)"
   ]
  },
  {
   "cell_type": "code",
   "execution_count": 52,
   "metadata": {},
   "outputs": [
    {
     "name": "stderr",
     "output_type": "stream",
     "text": [
      "Parsed with column specification:\n",
      "cols(\n",
      "  day = \u001b[31mcol_character()\u001b[39m,\n",
      "  month = \u001b[31mcol_character()\u001b[39m,\n",
      "  year = \u001b[31mcol_character()\u001b[39m,\n",
      "  Temperature = \u001b[31mcol_character()\u001b[39m,\n",
      "  ` RH` = \u001b[31mcol_character()\u001b[39m,\n",
      "  ` Ws` = \u001b[31mcol_character()\u001b[39m,\n",
      "  `Rain ` = \u001b[31mcol_character()\u001b[39m,\n",
      "  FFMC = \u001b[31mcol_character()\u001b[39m,\n",
      "  DMC = \u001b[31mcol_character()\u001b[39m,\n",
      "  DC = \u001b[31mcol_character()\u001b[39m,\n",
      "  ISI = \u001b[31mcol_character()\u001b[39m,\n",
      "  BUI = \u001b[31mcol_character()\u001b[39m,\n",
      "  FWI = \u001b[31mcol_character()\u001b[39m,\n",
      "  `Classes  ` = \u001b[31mcol_character()\u001b[39m\n",
      ")\n",
      "\n",
      "Warning message:\n",
      "“2 parsing failures.\n",
      "row col   expected     actual                                       file\n",
      "123  -- 14 columns 1 columns  'Algerian_forest_fires_dataset_UPDATE.csv'\n",
      "168  -- 14 columns 13 columns 'Algerian_forest_fires_dataset_UPDATE.csv'\n",
      "”\n"
     ]
    },
    {
     "data": {
      "text/html": [
       "<table>\n",
       "<caption>A spec_tbl_df: 122 × 15</caption>\n",
       "<thead>\n",
       "\t<tr><th scope=col>day</th><th scope=col>month</th><th scope=col>year</th><th scope=col>Temperature</th><th scope=col> RH</th><th scope=col> Ws</th><th scope=col>Rain </th><th scope=col>FFMC</th><th scope=col>DMC</th><th scope=col>DC</th><th scope=col>ISI</th><th scope=col>BUI</th><th scope=col>FWI</th><th scope=col>Classes  </th><th scope=col>region</th></tr>\n",
       "\t<tr><th scope=col>&lt;chr&gt;</th><th scope=col>&lt;chr&gt;</th><th scope=col>&lt;chr&gt;</th><th scope=col>&lt;chr&gt;</th><th scope=col>&lt;chr&gt;</th><th scope=col>&lt;chr&gt;</th><th scope=col>&lt;chr&gt;</th><th scope=col>&lt;chr&gt;</th><th scope=col>&lt;chr&gt;</th><th scope=col>&lt;chr&gt;</th><th scope=col>&lt;chr&gt;</th><th scope=col>&lt;chr&gt;</th><th scope=col>&lt;chr&gt;</th><th scope=col>&lt;chr&gt;</th><th scope=col>&lt;chr&gt;</th></tr>\n",
       "</thead>\n",
       "<tbody>\n",
       "\t<tr><td>01</td><td>06</td><td>2012</td><td>29</td><td>57</td><td>18</td><td>0   </td><td>65.7</td><td>3.4</td><td>7.6</td><td>1.3</td><td>3.4</td><td>0.5</td><td>not fire   </td><td>bejaia</td></tr>\n",
       "\t<tr><td>02</td><td>06</td><td>2012</td><td>29</td><td>61</td><td>13</td><td>1.3 </td><td>64.4</td><td>4.1</td><td>7.6</td><td>1  </td><td>3.9</td><td>0.4</td><td>not fire   </td><td>bejaia</td></tr>\n",
       "\t<tr><td>03</td><td>06</td><td>2012</td><td>26</td><td>82</td><td>22</td><td>13.1</td><td>47.1</td><td>2.5</td><td>7.1</td><td>0.3</td><td>2.7</td><td>0.1</td><td>not fire   </td><td>bejaia</td></tr>\n",
       "\t<tr><td>⋮</td><td>⋮</td><td>⋮</td><td>⋮</td><td>⋮</td><td>⋮</td><td>⋮</td><td>⋮</td><td>⋮</td><td>⋮</td><td>⋮</td><td>⋮</td><td>⋮</td><td>⋮</td><td>⋮</td></tr>\n",
       "\t<tr><td>28</td><td>09</td><td>2012</td><td>32</td><td>47</td><td>14</td><td>0.7</td><td>77.5</td><td>7.1</td><td>8.8</td><td>1.8</td><td>6.8</td><td>0.9</td><td>not fire   </td><td>bejaia</td></tr>\n",
       "\t<tr><td>29</td><td>09</td><td>2012</td><td>26</td><td>80</td><td>16</td><td>1.8</td><td>47.4</td><td>2.9</td><td>7.7</td><td>0.3</td><td>3  </td><td>0.1</td><td>not fire   </td><td>bejaia</td></tr>\n",
       "\t<tr><td>30</td><td>09</td><td>2012</td><td>25</td><td>78</td><td>14</td><td>1.4</td><td>45  </td><td>1.9</td><td>7.5</td><td>0.2</td><td>2.4</td><td>0.1</td><td>not fire   </td><td>bejaia</td></tr>\n",
       "</tbody>\n",
       "</table>\n"
      ],
      "text/latex": [
       "A spec\\_tbl\\_df: 122 × 15\n",
       "\\begin{tabular}{lllllllllllllll}\n",
       " day & month & year & Temperature &  RH &  Ws & Rain  & FFMC & DMC & DC & ISI & BUI & FWI & Classes   & region\\\\\n",
       " <chr> & <chr> & <chr> & <chr> & <chr> & <chr> & <chr> & <chr> & <chr> & <chr> & <chr> & <chr> & <chr> & <chr> & <chr>\\\\\n",
       "\\hline\n",
       "\t 01 & 06 & 2012 & 29 & 57 & 18 & 0    & 65.7 & 3.4 & 7.6 & 1.3 & 3.4 & 0.5 & not fire    & bejaia\\\\\n",
       "\t 02 & 06 & 2012 & 29 & 61 & 13 & 1.3  & 64.4 & 4.1 & 7.6 & 1   & 3.9 & 0.4 & not fire    & bejaia\\\\\n",
       "\t 03 & 06 & 2012 & 26 & 82 & 22 & 13.1 & 47.1 & 2.5 & 7.1 & 0.3 & 2.7 & 0.1 & not fire    & bejaia\\\\\n",
       "\t ⋮ & ⋮ & ⋮ & ⋮ & ⋮ & ⋮ & ⋮ & ⋮ & ⋮ & ⋮ & ⋮ & ⋮ & ⋮ & ⋮ & ⋮\\\\\n",
       "\t 28 & 09 & 2012 & 32 & 47 & 14 & 0.7 & 77.5 & 7.1 & 8.8 & 1.8 & 6.8 & 0.9 & not fire    & bejaia\\\\\n",
       "\t 29 & 09 & 2012 & 26 & 80 & 16 & 1.8 & 47.4 & 2.9 & 7.7 & 0.3 & 3   & 0.1 & not fire    & bejaia\\\\\n",
       "\t 30 & 09 & 2012 & 25 & 78 & 14 & 1.4 & 45   & 1.9 & 7.5 & 0.2 & 2.4 & 0.1 & not fire    & bejaia\\\\\n",
       "\\end{tabular}\n"
      ],
      "text/markdown": [
       "\n",
       "A spec_tbl_df: 122 × 15\n",
       "\n",
       "| day &lt;chr&gt; | month &lt;chr&gt; | year &lt;chr&gt; | Temperature &lt;chr&gt; |  RH &lt;chr&gt; |  Ws &lt;chr&gt; | Rain  &lt;chr&gt; | FFMC &lt;chr&gt; | DMC &lt;chr&gt; | DC &lt;chr&gt; | ISI &lt;chr&gt; | BUI &lt;chr&gt; | FWI &lt;chr&gt; | Classes   &lt;chr&gt; | region &lt;chr&gt; |\n",
       "|---|---|---|---|---|---|---|---|---|---|---|---|---|---|---|\n",
       "| 01 | 06 | 2012 | 29 | 57 | 18 | 0    | 65.7 | 3.4 | 7.6 | 1.3 | 3.4 | 0.5 | not fire    | bejaia |\n",
       "| 02 | 06 | 2012 | 29 | 61 | 13 | 1.3  | 64.4 | 4.1 | 7.6 | 1   | 3.9 | 0.4 | not fire    | bejaia |\n",
       "| 03 | 06 | 2012 | 26 | 82 | 22 | 13.1 | 47.1 | 2.5 | 7.1 | 0.3 | 2.7 | 0.1 | not fire    | bejaia |\n",
       "| ⋮ | ⋮ | ⋮ | ⋮ | ⋮ | ⋮ | ⋮ | ⋮ | ⋮ | ⋮ | ⋮ | ⋮ | ⋮ | ⋮ | ⋮ |\n",
       "| 28 | 09 | 2012 | 32 | 47 | 14 | 0.7 | 77.5 | 7.1 | 8.8 | 1.8 | 6.8 | 0.9 | not fire    | bejaia |\n",
       "| 29 | 09 | 2012 | 26 | 80 | 16 | 1.8 | 47.4 | 2.9 | 7.7 | 0.3 | 3   | 0.1 | not fire    | bejaia |\n",
       "| 30 | 09 | 2012 | 25 | 78 | 14 | 1.4 | 45   | 1.9 | 7.5 | 0.2 | 2.4 | 0.1 | not fire    | bejaia |\n",
       "\n"
      ],
      "text/plain": [
       "    day month year Temperature  RH  Ws Rain  FFMC DMC DC  ISI BUI FWI\n",
       "1   01  06    2012 29          57  18  0     65.7 3.4 7.6 1.3 3.4 0.5\n",
       "2   02  06    2012 29          61  13  1.3   64.4 4.1 7.6 1   3.9 0.4\n",
       "3   03  06    2012 26          82  22  13.1  47.1 2.5 7.1 0.3 2.7 0.1\n",
       "⋮   ⋮   ⋮     ⋮    ⋮           ⋮   ⋮   ⋮     ⋮    ⋮   ⋮   ⋮   ⋮   ⋮  \n",
       "120 28  09    2012 32          47  14  0.7   77.5 7.1 8.8 1.8 6.8 0.9\n",
       "121 29  09    2012 26          80  16  1.8   47.4 2.9 7.7 0.3 3   0.1\n",
       "122 30  09    2012 25          78  14  1.4   45   1.9 7.5 0.2 2.4 0.1\n",
       "    Classes     region\n",
       "1   not fire    bejaia\n",
       "2   not fire    bejaia\n",
       "3   not fire    bejaia\n",
       "⋮   ⋮           ⋮     \n",
       "120 not fire    bejaia\n",
       "121 not fire    bejaia\n",
       "122 not fire    bejaia"
      ]
     },
     "metadata": {},
     "output_type": "display_data"
    },
    {
     "data": {
      "text/html": [
       "<table>\n",
       "<caption>A spec_tbl_df: 122 × 15</caption>\n",
       "<thead>\n",
       "\t<tr><th scope=col>day</th><th scope=col>month</th><th scope=col>year</th><th scope=col>Temperature</th><th scope=col> RH</th><th scope=col> Ws</th><th scope=col>Rain </th><th scope=col>FFMC</th><th scope=col>DMC</th><th scope=col>DC</th><th scope=col>ISI</th><th scope=col>BUI</th><th scope=col>FWI</th><th scope=col>Classes  </th><th scope=col>region</th></tr>\n",
       "\t<tr><th scope=col>&lt;chr&gt;</th><th scope=col>&lt;chr&gt;</th><th scope=col>&lt;chr&gt;</th><th scope=col>&lt;chr&gt;</th><th scope=col>&lt;chr&gt;</th><th scope=col>&lt;chr&gt;</th><th scope=col>&lt;chr&gt;</th><th scope=col>&lt;chr&gt;</th><th scope=col>&lt;chr&gt;</th><th scope=col>&lt;chr&gt;</th><th scope=col>&lt;chr&gt;</th><th scope=col>&lt;chr&gt;</th><th scope=col>&lt;chr&gt;</th><th scope=col>&lt;chr&gt;</th><th scope=col>&lt;chr&gt;</th></tr>\n",
       "</thead>\n",
       "<tbody>\n",
       "\t<tr><td>01</td><td>06</td><td>2012</td><td>32</td><td>71</td><td>12</td><td>0.7</td><td>57.1</td><td>2.5</td><td>8.2</td><td>0.6</td><td>2.8</td><td>0.2</td><td>not fire   </td><td>sidi bel abbes</td></tr>\n",
       "\t<tr><td>02</td><td>06</td><td>2012</td><td>30</td><td>73</td><td>13</td><td>4  </td><td>55.7</td><td>2.7</td><td>7.8</td><td>0.6</td><td>2.9</td><td>0.2</td><td>not fire   </td><td>sidi bel abbes</td></tr>\n",
       "\t<tr><td>03</td><td>06</td><td>2012</td><td>29</td><td>80</td><td>14</td><td>2  </td><td>48.7</td><td>2.2</td><td>7.6</td><td>0.3</td><td>2.6</td><td>0.1</td><td>not fire   </td><td>sidi bel abbes</td></tr>\n",
       "\t<tr><td>⋮</td><td>⋮</td><td>⋮</td><td>⋮</td><td>⋮</td><td>⋮</td><td>⋮</td><td>⋮</td><td>⋮</td><td>⋮</td><td>⋮</td><td>⋮</td><td>⋮</td><td>⋮</td><td>⋮</td></tr>\n",
       "\t<tr><td>28</td><td>09</td><td>2012</td><td>27</td><td>87</td><td>29</td><td>0.5</td><td>45.9</td><td>3.5</td><td>7.9 </td><td>0.4</td><td>3.4</td><td>0.2</td><td>not fire    </td><td>sidi bel abbes</td></tr>\n",
       "\t<tr><td>29</td><td>09</td><td>2012</td><td>24</td><td>54</td><td>18</td><td>0.1</td><td>79.7</td><td>4.3</td><td>15.2</td><td>1.7</td><td>5.1</td><td>0.7</td><td>not fire    </td><td>sidi bel abbes</td></tr>\n",
       "\t<tr><td>30</td><td>09</td><td>2012</td><td>24</td><td>64</td><td>15</td><td>0.2</td><td>67.3</td><td>3.8</td><td>16.5</td><td>1.2</td><td>4.8</td><td>0.5</td><td>not fire    </td><td>sidi bel abbes</td></tr>\n",
       "</tbody>\n",
       "</table>\n"
      ],
      "text/latex": [
       "A spec\\_tbl\\_df: 122 × 15\n",
       "\\begin{tabular}{lllllllllllllll}\n",
       " day & month & year & Temperature &  RH &  Ws & Rain  & FFMC & DMC & DC & ISI & BUI & FWI & Classes   & region\\\\\n",
       " <chr> & <chr> & <chr> & <chr> & <chr> & <chr> & <chr> & <chr> & <chr> & <chr> & <chr> & <chr> & <chr> & <chr> & <chr>\\\\\n",
       "\\hline\n",
       "\t 01 & 06 & 2012 & 32 & 71 & 12 & 0.7 & 57.1 & 2.5 & 8.2 & 0.6 & 2.8 & 0.2 & not fire    & sidi bel abbes\\\\\n",
       "\t 02 & 06 & 2012 & 30 & 73 & 13 & 4   & 55.7 & 2.7 & 7.8 & 0.6 & 2.9 & 0.2 & not fire    & sidi bel abbes\\\\\n",
       "\t 03 & 06 & 2012 & 29 & 80 & 14 & 2   & 48.7 & 2.2 & 7.6 & 0.3 & 2.6 & 0.1 & not fire    & sidi bel abbes\\\\\n",
       "\t ⋮ & ⋮ & ⋮ & ⋮ & ⋮ & ⋮ & ⋮ & ⋮ & ⋮ & ⋮ & ⋮ & ⋮ & ⋮ & ⋮ & ⋮\\\\\n",
       "\t 28 & 09 & 2012 & 27 & 87 & 29 & 0.5 & 45.9 & 3.5 & 7.9  & 0.4 & 3.4 & 0.2 & not fire     & sidi bel abbes\\\\\n",
       "\t 29 & 09 & 2012 & 24 & 54 & 18 & 0.1 & 79.7 & 4.3 & 15.2 & 1.7 & 5.1 & 0.7 & not fire     & sidi bel abbes\\\\\n",
       "\t 30 & 09 & 2012 & 24 & 64 & 15 & 0.2 & 67.3 & 3.8 & 16.5 & 1.2 & 4.8 & 0.5 & not fire     & sidi bel abbes\\\\\n",
       "\\end{tabular}\n"
      ],
      "text/markdown": [
       "\n",
       "A spec_tbl_df: 122 × 15\n",
       "\n",
       "| day &lt;chr&gt; | month &lt;chr&gt; | year &lt;chr&gt; | Temperature &lt;chr&gt; |  RH &lt;chr&gt; |  Ws &lt;chr&gt; | Rain  &lt;chr&gt; | FFMC &lt;chr&gt; | DMC &lt;chr&gt; | DC &lt;chr&gt; | ISI &lt;chr&gt; | BUI &lt;chr&gt; | FWI &lt;chr&gt; | Classes   &lt;chr&gt; | region &lt;chr&gt; |\n",
       "|---|---|---|---|---|---|---|---|---|---|---|---|---|---|---|\n",
       "| 01 | 06 | 2012 | 32 | 71 | 12 | 0.7 | 57.1 | 2.5 | 8.2 | 0.6 | 2.8 | 0.2 | not fire    | sidi bel abbes |\n",
       "| 02 | 06 | 2012 | 30 | 73 | 13 | 4   | 55.7 | 2.7 | 7.8 | 0.6 | 2.9 | 0.2 | not fire    | sidi bel abbes |\n",
       "| 03 | 06 | 2012 | 29 | 80 | 14 | 2   | 48.7 | 2.2 | 7.6 | 0.3 | 2.6 | 0.1 | not fire    | sidi bel abbes |\n",
       "| ⋮ | ⋮ | ⋮ | ⋮ | ⋮ | ⋮ | ⋮ | ⋮ | ⋮ | ⋮ | ⋮ | ⋮ | ⋮ | ⋮ | ⋮ |\n",
       "| 28 | 09 | 2012 | 27 | 87 | 29 | 0.5 | 45.9 | 3.5 | 7.9  | 0.4 | 3.4 | 0.2 | not fire     | sidi bel abbes |\n",
       "| 29 | 09 | 2012 | 24 | 54 | 18 | 0.1 | 79.7 | 4.3 | 15.2 | 1.7 | 5.1 | 0.7 | not fire     | sidi bel abbes |\n",
       "| 30 | 09 | 2012 | 24 | 64 | 15 | 0.2 | 67.3 | 3.8 | 16.5 | 1.2 | 4.8 | 0.5 | not fire     | sidi bel abbes |\n",
       "\n"
      ],
      "text/plain": [
       "    day month year Temperature  RH  Ws Rain  FFMC DMC DC   ISI BUI FWI\n",
       "1   01  06    2012 32          71  12  0.7   57.1 2.5 8.2  0.6 2.8 0.2\n",
       "2   02  06    2012 30          73  13  4     55.7 2.7 7.8  0.6 2.9 0.2\n",
       "3   03  06    2012 29          80  14  2     48.7 2.2 7.6  0.3 2.6 0.1\n",
       "⋮   ⋮   ⋮     ⋮    ⋮           ⋮   ⋮   ⋮     ⋮    ⋮   ⋮    ⋮   ⋮   ⋮  \n",
       "120 28  09    2012 27          87  29  0.5   45.9 3.5 7.9  0.4 3.4 0.2\n",
       "121 29  09    2012 24          54  18  0.1   79.7 4.3 15.2 1.7 5.1 0.7\n",
       "122 30  09    2012 24          64  15  0.2   67.3 3.8 16.5 1.2 4.8 0.5\n",
       "    Classes      region        \n",
       "1   not fire     sidi bel abbes\n",
       "2   not fire     sidi bel abbes\n",
       "3   not fire     sidi bel abbes\n",
       "⋮   ⋮            ⋮             \n",
       "120 not fire     sidi bel abbes\n",
       "121 not fire     sidi bel abbes\n",
       "122 not fire     sidi bel abbes"
      ]
     },
     "metadata": {},
     "output_type": "display_data"
    }
   ],
   "source": [
    "\n",
    "# Title: Factors Contributing to Algerian Forest Fires\n",
    "# Introduction:\n",
    "forest_fires_untidy <- read_delim(file = \"Algerian_forest_fires_dataset_UPDATE.csv\", skip =1,  delim = \",\", col_names = TRUE) \n",
    "   \n",
    "bejaia_region <- forest_fires_untidy %>%\n",
    "    slice(1:122) %>%\n",
    "    mutate(region = \"bejaia\")\n",
    "bejaia_region\n",
    "\n",
    "sidi_bel_region <- forest_fires_untidy %>%\n",
    "    slice(125:246) %>%\n",
    "    mutate(region = \"sidi bel abbes\")\n",
    "    \n",
    "sidi_bel_region\n",
    "\n",
    "forest_fires <- bejaia_region +\n",
    "\n",
    "# fire_data <- forest_fires %>%\n",
    "#     select(day, month, year, BUI, Temperature, Rain)"
   ]
  },
  {
   "cell_type": "code",
   "execution_count": null,
   "metadata": {},
   "outputs": [],
   "source": []
  }
 ],
 "metadata": {
  "kernelspec": {
   "display_name": "R",
   "language": "R",
   "name": "ir"
  },
  "language_info": {
   "codemirror_mode": "r",
   "file_extension": ".r",
   "mimetype": "text/x-r-source",
   "name": "R",
   "pygments_lexer": "r",
   "version": "4.0.0"
  }
 },
 "nbformat": 4,
 "nbformat_minor": 4
}
