{
 "cells": [
  {
   "cell_type": "code",
   "execution_count": 32,
   "metadata": {},
   "outputs": [
    {
     "name": "stderr",
     "output_type": "stream",
     "text": [
      "Warning message:\n",
      "“package ‘tidymodels’ was built under R version 4.0.2”\n",
      "── \u001b[1mAttaching packages\u001b[22m ────────────────────────────────────── tidymodels 0.1.1 ──\n",
      "\n",
      "\u001b[32m✔\u001b[39m \u001b[34mbroom    \u001b[39m 0.7.0      \u001b[32m✔\u001b[39m \u001b[34mrecipes  \u001b[39m 0.1.13\n",
      "\u001b[32m✔\u001b[39m \u001b[34mdials    \u001b[39m 0.0.9      \u001b[32m✔\u001b[39m \u001b[34mrsample  \u001b[39m 0.0.7 \n",
      "\u001b[32m✔\u001b[39m \u001b[34minfer    \u001b[39m 0.5.4      \u001b[32m✔\u001b[39m \u001b[34mtune     \u001b[39m 0.1.1 \n",
      "\u001b[32m✔\u001b[39m \u001b[34mmodeldata\u001b[39m 0.0.2      \u001b[32m✔\u001b[39m \u001b[34mworkflows\u001b[39m 0.2.0 \n",
      "\u001b[32m✔\u001b[39m \u001b[34mparsnip  \u001b[39m 0.1.3      \u001b[32m✔\u001b[39m \u001b[34myardstick\u001b[39m 0.0.7 \n",
      "\n",
      "Warning message:\n",
      "“package ‘broom’ was built under R version 4.0.2”\n",
      "Warning message:\n",
      "“package ‘dials’ was built under R version 4.0.2”\n",
      "Warning message:\n",
      "“package ‘infer’ was built under R version 4.0.3”\n",
      "Warning message:\n",
      "“package ‘modeldata’ was built under R version 4.0.1”\n",
      "Warning message:\n",
      "“package ‘parsnip’ was built under R version 4.0.2”\n",
      "Warning message:\n",
      "“package ‘recipes’ was built under R version 4.0.1”\n",
      "Warning message:\n",
      "“package ‘tune’ was built under R version 4.0.2”\n",
      "Warning message:\n",
      "“package ‘workflows’ was built under R version 4.0.2”\n",
      "Warning message:\n",
      "“package ‘yardstick’ was built under R version 4.0.2”\n",
      "── \u001b[1mConflicts\u001b[22m ───────────────────────────────────────── tidymodels_conflicts() ──\n",
      "\u001b[31m✖\u001b[39m \u001b[34mscales\u001b[39m::\u001b[32mdiscard()\u001b[39m masks \u001b[34mpurrr\u001b[39m::discard()\n",
      "\u001b[31m✖\u001b[39m \u001b[34mdplyr\u001b[39m::\u001b[32mfilter()\u001b[39m   masks \u001b[34mstats\u001b[39m::filter()\n",
      "\u001b[31m✖\u001b[39m \u001b[34mrecipes\u001b[39m::\u001b[32mfixed()\u001b[39m  masks \u001b[34mstringr\u001b[39m::fixed()\n",
      "\u001b[31m✖\u001b[39m \u001b[34mdbplyr\u001b[39m::\u001b[32mident()\u001b[39m   masks \u001b[34mdplyr\u001b[39m::ident()\n",
      "\u001b[31m✖\u001b[39m \u001b[34mdplyr\u001b[39m::\u001b[32mlag()\u001b[39m      masks \u001b[34mstats\u001b[39m::lag()\n",
      "\u001b[31m✖\u001b[39m \u001b[34mrvest\u001b[39m::\u001b[32mpluck()\u001b[39m    masks \u001b[34mpurrr\u001b[39m::pluck()\n",
      "\u001b[31m✖\u001b[39m \u001b[34myardstick\u001b[39m::\u001b[32mspec()\u001b[39m masks \u001b[34mreadr\u001b[39m::spec()\n",
      "\u001b[31m✖\u001b[39m \u001b[34mdbplyr\u001b[39m::\u001b[32msql()\u001b[39m     masks \u001b[34mdplyr\u001b[39m::sql()\n",
      "\u001b[31m✖\u001b[39m \u001b[34mrecipes\u001b[39m::\u001b[32mstep()\u001b[39m   masks \u001b[34mstats\u001b[39m::step()\n",
      "\n"
     ]
    }
   ],
   "source": [
    "library(tidyverse)\n",
    "library(tidymodels)\n",
    "library(repr)\n",
    "library(rvest)\n",
    "library(stringr)\n",
    "library(dbplyr)\n",
    "library(DBI)\n",
    "library(RPostgres)\n",
    "library(lubridate)\n",
    "options(repr.matrix.max.rows = 6)"
   ]
  },
  {
   "cell_type": "markdown",
   "metadata": {},
   "source": [
    "# Algerian Forest Fires and the Weather\n",
    "## Background and Introduction:\n",
    "As our climate changes, and forest fires become more of a danger to humans all around the world, it is more and more important to understand the conditions which can lead to their ignition. Due to increasing temperatures, summer temperatures have been increasing, resulting in dryer heat (lower humidity), dryer forests, which lead to easier ignition. Rising temperatures result in the the unequality of temperature between the sky and the earth, leading to further likelihood of lightning--along with human campfires, cigarettes, and fireworks alike, these igniting forces are sure to lead to forest fires. ( \n",
    "\n",
    "\n",
    "## Our research question:  What are the weather conditions needed to result in a forest fire in the Algerian Forest Areas?\n",
    "## The dataset:\n",
    "Our dataset, \"The Algerian Forest Fires Dataset\" [link to dataset] (https://archive.ics.uci.edu/ml/datasets/Algerian+Forest+Fires+Dataset++) provides information on forest fires in two areas: the Sidi-Bel Abbas and Bejaia regions. The data was taken from June 2012 to September 2012, and contains information on the following data:\n",
    "\n",
    "1. Date: (DD/MM/YYYY) Day, month ('june' to 'september'), year (2012)\n",
    "Weather data observations\n",
    "2. Temp: temperature noon (temperature max) in Celsius degrees: 22 to 42\n",
    "3. RH: Relative Humidity in %: 21 to 90\n",
    "4. Ws: Wind speed in km/h: 6 to 29\n",
    "5. Rain: total day in mm: 0 to 16.8\n",
    "FWI Components\n",
    "6. Fine Fuel Moisture Code (FFMC) index from the FWI system: 28.6 to 92.5\n",
    "7. Duff Moisture Code (DMC) index from the FWI system: 1.1 to 65.9\n",
    "8. Drought Code (DC) index from the FWI system: 7 to 220.4\n",
    "9. Initial Spread Index (ISI) index from the FWI system: 0 to 18.5\n",
    "10. Buildup Index (BUI) index from the FWI system: 1.1 to 68\n",
    "11. Fire Weather Index (FWI) Index: 0 to 31.1\n",
    "12. Classes: two classes, namely Fire and Not Fire\n",
    "\n",
    "Vector 1 is the date, 2-5 are all weather based observations, vectors 6-11 are all \"Fire Weather Index\" components, and vector 12 is whether there was a fire or not in the area.\n",
    "Fire Weather Index, or FWI, is a general measure used to predict the intensity of a potential fire in the area, and takes into account each component when calculating this. "
   ]
  },
  {
   "cell_type": "code",
   "execution_count": 39,
   "metadata": {},
   "outputs": [
    {
     "name": "stderr",
     "output_type": "stream",
     "text": [
      "Warning message:\n",
      "“18 parsing failures.\n",
      "row   col   expected                        actual                                                                                                       file\n",
      "123 day   an integer Sidi-Bel Abbes Region Dataset 'https://archive.ics.uci.edu/ml/machine-learning-databases/00547/Algerian_forest_fires_dataset_UPDATE.csv'\n",
      "123 NA    14 columns 1 columns                     'https://archive.ics.uci.edu/ml/machine-learning-databases/00547/Algerian_forest_fires_dataset_UPDATE.csv'\n",
      "124 day   an integer day                           'https://archive.ics.uci.edu/ml/machine-learning-databases/00547/Algerian_forest_fires_dataset_UPDATE.csv'\n",
      "124 month an integer month                         'https://archive.ics.uci.edu/ml/machine-learning-databases/00547/Algerian_forest_fires_dataset_UPDATE.csv'\n",
      "124 year  an integer year                          'https://archive.ics.uci.edu/ml/machine-learning-databases/00547/Algerian_forest_fires_dataset_UPDATE.csv'\n",
      "... ..... .......... ............................. ..........................................................................................................\n",
      "See problems(...) for more details.\n",
      "”\n"
     ]
    },
    {
     "data": {
      "text/html": [
       "<table>\n",
       "<caption>A tibble: 244 × 5</caption>\n",
       "<thead>\n",
       "\t<tr><th scope=col>day</th><th scope=col>month</th><th scope=col>Temperature</th><th scope=col>FWI</th><th scope=col>Classes</th></tr>\n",
       "\t<tr><th scope=col>&lt;int&gt;</th><th scope=col>&lt;int&gt;</th><th scope=col>&lt;dbl&gt;</th><th scope=col>&lt;dbl&gt;</th><th scope=col>&lt;chr&gt;</th></tr>\n",
       "</thead>\n",
       "<tbody>\n",
       "\t<tr><td>1</td><td>6</td><td>29</td><td>0.5</td><td>not fire</td></tr>\n",
       "\t<tr><td>2</td><td>6</td><td>29</td><td>0.4</td><td>not fire</td></tr>\n",
       "\t<tr><td>3</td><td>6</td><td>26</td><td>0.1</td><td>not fire</td></tr>\n",
       "\t<tr><td>⋮</td><td>⋮</td><td>⋮</td><td>⋮</td><td>⋮</td></tr>\n",
       "\t<tr><td>28</td><td>9</td><td>27</td><td>0.2</td><td>not fire</td></tr>\n",
       "\t<tr><td>29</td><td>9</td><td>24</td><td>0.7</td><td>not fire</td></tr>\n",
       "\t<tr><td>30</td><td>9</td><td>24</td><td>0.5</td><td>not fire</td></tr>\n",
       "</tbody>\n",
       "</table>\n"
      ],
      "text/latex": [
       "A tibble: 244 × 5\n",
       "\\begin{tabular}{lllll}\n",
       " day & month & Temperature & FWI & Classes\\\\\n",
       " <int> & <int> & <dbl> & <dbl> & <chr>\\\\\n",
       "\\hline\n",
       "\t 1 & 6 & 29 & 0.5 & not fire\\\\\n",
       "\t 2 & 6 & 29 & 0.4 & not fire\\\\\n",
       "\t 3 & 6 & 26 & 0.1 & not fire\\\\\n",
       "\t ⋮ & ⋮ & ⋮ & ⋮ & ⋮\\\\\n",
       "\t 28 & 9 & 27 & 0.2 & not fire\\\\\n",
       "\t 29 & 9 & 24 & 0.7 & not fire\\\\\n",
       "\t 30 & 9 & 24 & 0.5 & not fire\\\\\n",
       "\\end{tabular}\n"
      ],
      "text/markdown": [
       "\n",
       "A tibble: 244 × 5\n",
       "\n",
       "| day &lt;int&gt; | month &lt;int&gt; | Temperature &lt;dbl&gt; | FWI &lt;dbl&gt; | Classes &lt;chr&gt; |\n",
       "|---|---|---|---|---|\n",
       "| 1 | 6 | 29 | 0.5 | not fire |\n",
       "| 2 | 6 | 29 | 0.4 | not fire |\n",
       "| 3 | 6 | 26 | 0.1 | not fire |\n",
       "| ⋮ | ⋮ | ⋮ | ⋮ | ⋮ |\n",
       "| 28 | 9 | 27 | 0.2 | not fire |\n",
       "| 29 | 9 | 24 | 0.7 | not fire |\n",
       "| 30 | 9 | 24 | 0.5 | not fire |\n",
       "\n"
      ],
      "text/plain": [
       "    day month Temperature FWI Classes \n",
       "1   1   6     29          0.5 not fire\n",
       "2   2   6     29          0.4 not fire\n",
       "3   3   6     26          0.1 not fire\n",
       "⋮   ⋮   ⋮     ⋮           ⋮   ⋮       \n",
       "242 28  9     27          0.2 not fire\n",
       "243 29  9     24          0.7 not fire\n",
       "244 30  9     24          0.5 not fire"
      ]
     },
     "metadata": {},
     "output_type": "display_data"
    }
   ],
   "source": [
    "\n",
    "# Title: Factors Contributing to Algerian Forest Fires\n",
    "# Introduction:\n",
    "forest_fires_untidy <- read_csv(file = \"https://archive.ics.uci.edu/ml/machine-learning-databases/00547/Algerian_forest_fires_dataset_UPDATE.csv\", \n",
    "                                skip =1, col_names = TRUE, col_types = cols_only(\n",
    "                                      day = col_integer(),\n",
    "                                      month = col_integer(),\n",
    "                                      year = col_integer(),\n",
    "                                      Temperature = col_double(),\n",
    "                                      RH = col_double(),\n",
    "                                      Ws = col_double(),\n",
    "                                      Rain = col_double(),\n",
    "                                      FFMC = col_double(),\n",
    "                                      DMC = col_double(),\n",
    "                                      DC = col_double(),\n",
    "                                      ISI = col_double(),\n",
    "                                      BUI = col_double(),\n",
    "                                      FWI = col_double(),\n",
    "                                      Classes = col_character()))  \n",
    "  \n",
    "bejaia_region <- forest_fires_untidy %>%\n",
    "    slice(1:122) %>%\n",
    "    mutate(region = \"bejaia\")\n",
    "\n",
    "sidi_bel_region <- forest_fires_untidy %>%\n",
    "    slice(125:246) %>%\n",
    "    mutate(region = \"sidi bel abbes\")\n",
    "\n",
    "forest_fire_data <- rbind(bejaia_region, sidi_bel_region) \n",
    "\n",
    "fire_data <- forest_fire_data %>%\n",
    "     select(day, month, Temperature, FWI, Classes)\n",
    "\n",
    "fire_data\n",
    "\n",
    "set.seed(1)\n",
    "fire_split <- initial_split(fire_data, prop = 0.75, strata = Classes)\n",
    "fire_train <- training(fire_split)\n",
    "fire_test <- testing(fire_split)\n",
    "\n",
    "fire_recipe <- recipe(Classes ~ month + Temperature + FWI, data = fire_train) %>%\n",
    "    step_scale(all_predictors()) %>%\n",
    "    step_center(all_predictors())\n",
    "\n",
    "set.seed(1)\n",
    "knn_spec <- nearest_neighbor(weight_func = \"rectangular\", neighbors = 3) %>%\n",
    "    set_engine(\"kknn\") %>%\n",
    "    set_mode(\"classification\")\n",
    "\n",
    "knn_fit <- workflow() %>%\n",
    "    add_recipe(fire_recipe) %>%\n",
    "    add_model(knn_spec) %>%\n",
    "    fit(data = fire_train)\n",
    "\n",
    "fire_test_predictions <- predict(knn_fit, fire_test) %>%\n",
    "    bind_cols(fire_test)\n"
   ]
  },
  {
   "cell_type": "markdown",
   "metadata": {},
   "source": [
    "# Methods\n",
    "For our analysis, we will not be looking at any of the individual FWI components and instead will be looking at the weather data observations. We are not interested in the potential of intensity, rather we are interested in the contribution of the weather in forest fire ignition.\n",
    "Furthermore, as the data was all taken from a single year, we do not select the year column as this information is redundant."
   ]
  },
  {
   "cell_type": "markdown",
   "metadata": {},
   "source": [
    "# Expected outcomes and significance:\n",
    "We plan to better predict what weather conditions will lead to a fire."
   ]
  },
  {
   "cell_type": "code",
   "execution_count": null,
   "metadata": {},
   "outputs": [],
   "source": []
  }
 ],
 "metadata": {
  "kernelspec": {
   "display_name": "R",
   "language": "R",
   "name": "ir"
  },
  "language_info": {
   "codemirror_mode": "r",
   "file_extension": ".r",
   "mimetype": "text/x-r-source",
   "name": "R",
   "pygments_lexer": "r",
   "version": "4.0.0"
  }
 },
 "nbformat": 4,
 "nbformat_minor": 4
}
