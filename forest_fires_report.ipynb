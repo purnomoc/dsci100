{
 "cells": [
  {
   "cell_type": "code",
   "execution_count": 12,
   "metadata": {},
   "outputs": [],
   "source": [
    "library(tidyverse)\n",
    "library(tidymodels)\n",
    "library(repr)\n",
    "library(rvest)\n",
    "library(stringr)\n",
    "library(dbplyr)\n",
    "library(DBI)\n",
    "library(RPostgres)\n",
    "library(lubridate)\n",
    "library(RColorBrewer)\n",
    "options(repr.matrix.max.rows = 6)"
   ]
  },
  {
   "cell_type": "markdown",
   "metadata": {},
   "source": [
    "# Algerian Forest Fires and Weather\n",
    "## Background and Introduction:\n",
    "As our climate changes, it is important to understand the conditions which can lead to forest fire ignition. Due to increasing temperatures, summer temperatures have been increasing, resulting in dryer heat (lower humidity), dryer forests, which can lead to forest fires. Rising temperatures result in inequality of temperature between the sky and the earth, leading to further likelihood of lightning--along with fire-related human activites, igniting forces are sure to lead to forest fires. ([Source](https://climateatlas.ca/forest-fires-and-climate-change#:~:text=Dry%20heat%20helps%20create%20more,rising%20temperature%20of%20the%20Arctic.))\n",
    "\n",
    "\n",
    "## Q: What weather conditions result in a forest fire in Algerian Forest Areas?\n",
    "## Dataset:\n",
    "\"The Algerian Forest Fires Dataset\" ([link](https://archive.ics.uci.edu/ml/datasets/Algerian+Forest+Fires+Dataset++)) provides information on forest fires in two areas: Sidi-Bel Abbas and Bejaia regions. The data was taken from June 2012- September 2012, and contains information on the following data:\n",
    "\n",
    "1. Date: Day, month, year\n",
    "*Weather data*\n",
    "\n",
    "2. Temp: temperature noon (Celsius): 22 to 42\n",
    "3. RH: Relative Humidity (%): 21 to 90\n",
    "4. Ws: Wind speed (km/h): 6 to 29\n",
    "5. Rain: total day (mm): 0 to 16.8\n",
    "\n",
    "*FWI Components*\n",
    "\n",
    "6. Fine Fuel Moisture Code (FFMC) index: 28.6 to 92.5\n",
    "7. Duff Moisture Code (DMC) index: 1.1 to 65.9\n",
    "8. Drought Code (DC) index: 7 to 220.4\n",
    "9. Initial Spread Index (ISI): 0 to 18.5\n",
    "10. Buildup Index (BUI): 1.1 to 68\n",
    "11. Fire Weather Index (FWI): 0 to 31.1\n",
    "\n",
    "*Classes*\n",
    "12. Fire or Not Fire\n",
    "\n",
    "Fire Weather Index (FWI) is a general measure used to predict the intensity of a potential fire in the area, & takes into account each component when calculating this. "
   ]
  },
  {
   "cell_type": "markdown",
   "metadata": {},
   "source": [
    "## Methods\n",
    "For our analysis, we will be looking at weather data observations of Temperature, Relative Humidity (RH), Wind speed (WS), Rain, FWI Components as well as the overall FWI. We're interested in the contribution of the weather in forest fire ignition, and how this might correlate with FWI.\n",
    "\n",
    "To achieve this, we will be performing a classification using the Algerian forest fires dataset. First, we must tidy our data. To do this, we load the data into Jupyter and specify which columns we want as integers, doubles, or characters. Secondly, we will work to merge the two tables for each region that are in our dataset; we will split the dataset into two tables and save them to the objects 'bejaia_region' and 'sidi_bel_region', which correspond to which region the data was collected from. Then, we will combine both tables into one, using 'rbind' and saving that to an object called 'forest_fire_data'. Next, we will select which variables we wish to keep in our data set (day, month, Temperature, FWI, RH, Ws, Rain, Classes) and use the 'mutate' function to use the Classes column as a factor.\n",
    "\n",
    "Next, we begin creating our recipe. First, we will split our data in to training (75%) and test (25%) sets. Using Classes as the stratification and month, temperature, and FWI as predictors, we create our recipe with our training data.\n",
    "\n",
    "\n",
    "\n",
    "Potential Visualizations:\n",
    "- a scattergraph with temperature on the y-axis and then FWI on the x-axis, and coloured by Class.\n",
    "- a grid with numerous graphs. FWI will be on the x-axis for one, while, all other predictors on their own visualization on the y-axis. Each will be coloured by Class."
   ]
  },
  {
   "cell_type": "code",
   "execution_count": 15,
   "metadata": {},
   "outputs": [
    {
     "name": "stderr",
     "output_type": "stream",
     "text": [
      "Warning message:\n",
      "“18 parsing failures.\n",
      "row   col   expected                        actual                                                                                                       file\n",
      "123 day   an integer Sidi-Bel Abbes Region Dataset 'https://archive.ics.uci.edu/ml/machine-learning-databases/00547/Algerian_forest_fires_dataset_UPDATE.csv'\n",
      "123 NA    14 columns 1 columns                     'https://archive.ics.uci.edu/ml/machine-learning-databases/00547/Algerian_forest_fires_dataset_UPDATE.csv'\n",
      "124 day   an integer day                           'https://archive.ics.uci.edu/ml/machine-learning-databases/00547/Algerian_forest_fires_dataset_UPDATE.csv'\n",
      "124 month an integer month                         'https://archive.ics.uci.edu/ml/machine-learning-databases/00547/Algerian_forest_fires_dataset_UPDATE.csv'\n",
      "124 year  an integer year                          'https://archive.ics.uci.edu/ml/machine-learning-databases/00547/Algerian_forest_fires_dataset_UPDATE.csv'\n",
      "... ..... .......... ............................. ..........................................................................................................\n",
      "See problems(...) for more details.\n",
      "”\n"
     ]
    },
    {
     "data": {
      "text/html": [
       "<table>\n",
       "<caption>A tibble: 243 × 8</caption>\n",
       "<thead>\n",
       "\t<tr><th scope=col>day</th><th scope=col>month</th><th scope=col>Temperature</th><th scope=col>FWI</th><th scope=col>RH</th><th scope=col>Ws</th><th scope=col>Rain</th><th scope=col>Classes</th></tr>\n",
       "\t<tr><th scope=col>&lt;int&gt;</th><th scope=col>&lt;int&gt;</th><th scope=col>&lt;dbl&gt;</th><th scope=col>&lt;dbl&gt;</th><th scope=col>&lt;dbl&gt;</th><th scope=col>&lt;dbl&gt;</th><th scope=col>&lt;dbl&gt;</th><th scope=col>&lt;fct&gt;</th></tr>\n",
       "</thead>\n",
       "<tbody>\n",
       "\t<tr><td>1</td><td>6</td><td>29</td><td>0.5</td><td>57</td><td>18</td><td> 0.0</td><td>not fire</td></tr>\n",
       "\t<tr><td>2</td><td>6</td><td>29</td><td>0.4</td><td>61</td><td>13</td><td> 1.3</td><td>not fire</td></tr>\n",
       "\t<tr><td>3</td><td>6</td><td>26</td><td>0.1</td><td>82</td><td>22</td><td>13.1</td><td>not fire</td></tr>\n",
       "\t<tr><td>⋮</td><td>⋮</td><td>⋮</td><td>⋮</td><td>⋮</td><td>⋮</td><td>⋮</td><td>⋮</td></tr>\n",
       "\t<tr><td>28</td><td>9</td><td>27</td><td>0.2</td><td>87</td><td>29</td><td>0.5</td><td>not fire</td></tr>\n",
       "\t<tr><td>29</td><td>9</td><td>24</td><td>0.7</td><td>54</td><td>18</td><td>0.1</td><td>not fire</td></tr>\n",
       "\t<tr><td>30</td><td>9</td><td>24</td><td>0.5</td><td>64</td><td>15</td><td>0.2</td><td>not fire</td></tr>\n",
       "</tbody>\n",
       "</table>\n"
      ],
      "text/latex": [
       "A tibble: 243 × 8\n",
       "\\begin{tabular}{llllllll}\n",
       " day & month & Temperature & FWI & RH & Ws & Rain & Classes\\\\\n",
       " <int> & <int> & <dbl> & <dbl> & <dbl> & <dbl> & <dbl> & <fct>\\\\\n",
       "\\hline\n",
       "\t 1 & 6 & 29 & 0.5 & 57 & 18 &  0.0 & not fire\\\\\n",
       "\t 2 & 6 & 29 & 0.4 & 61 & 13 &  1.3 & not fire\\\\\n",
       "\t 3 & 6 & 26 & 0.1 & 82 & 22 & 13.1 & not fire\\\\\n",
       "\t ⋮ & ⋮ & ⋮ & ⋮ & ⋮ & ⋮ & ⋮ & ⋮\\\\\n",
       "\t 28 & 9 & 27 & 0.2 & 87 & 29 & 0.5 & not fire\\\\\n",
       "\t 29 & 9 & 24 & 0.7 & 54 & 18 & 0.1 & not fire\\\\\n",
       "\t 30 & 9 & 24 & 0.5 & 64 & 15 & 0.2 & not fire\\\\\n",
       "\\end{tabular}\n"
      ],
      "text/markdown": [
       "\n",
       "A tibble: 243 × 8\n",
       "\n",
       "| day &lt;int&gt; | month &lt;int&gt; | Temperature &lt;dbl&gt; | FWI &lt;dbl&gt; | RH &lt;dbl&gt; | Ws &lt;dbl&gt; | Rain &lt;dbl&gt; | Classes &lt;fct&gt; |\n",
       "|---|---|---|---|---|---|---|---|\n",
       "| 1 | 6 | 29 | 0.5 | 57 | 18 |  0.0 | not fire |\n",
       "| 2 | 6 | 29 | 0.4 | 61 | 13 |  1.3 | not fire |\n",
       "| 3 | 6 | 26 | 0.1 | 82 | 22 | 13.1 | not fire |\n",
       "| ⋮ | ⋮ | ⋮ | ⋮ | ⋮ | ⋮ | ⋮ | ⋮ |\n",
       "| 28 | 9 | 27 | 0.2 | 87 | 29 | 0.5 | not fire |\n",
       "| 29 | 9 | 24 | 0.7 | 54 | 18 | 0.1 | not fire |\n",
       "| 30 | 9 | 24 | 0.5 | 64 | 15 | 0.2 | not fire |\n",
       "\n"
      ],
      "text/plain": [
       "    day month Temperature FWI RH Ws Rain Classes \n",
       "1   1   6     29          0.5 57 18  0.0 not fire\n",
       "2   2   6     29          0.4 61 13  1.3 not fire\n",
       "3   3   6     26          0.1 82 22 13.1 not fire\n",
       "⋮   ⋮   ⋮     ⋮           ⋮   ⋮  ⋮  ⋮    ⋮       \n",
       "241 28  9     27          0.2 87 29 0.5  not fire\n",
       "242 29  9     24          0.7 54 18 0.1  not fire\n",
       "243 30  9     24          0.5 64 15 0.2  not fire"
      ]
     },
     "metadata": {},
     "output_type": "display_data"
    },
    {
     "name": "stderr",
     "output_type": "stream",
     "text": [
      "`summarise()` ungrouping output (override with `.groups` argument)\n",
      "\n"
     ]
    },
    {
     "data": {
      "text/html": [
       "<table>\n",
       "<caption>A tibble: 2 × 4</caption>\n",
       "<thead>\n",
       "\t<tr><th scope=col>Classes</th><th scope=col>n</th><th scope=col>average_temp</th><th scope=col>average_FWI</th></tr>\n",
       "\t<tr><th scope=col>&lt;fct&gt;</th><th scope=col>&lt;int&gt;</th><th scope=col>&lt;dbl&gt;</th><th scope=col>&lt;dbl&gt;</th></tr>\n",
       "</thead>\n",
       "<tbody>\n",
       "\t<tr><td>not fire</td><td> 80</td><td>29.97500</td><td> 0.92375</td></tr>\n",
       "\t<tr><td>fire    </td><td>103</td><td>33.70874</td><td>11.84854</td></tr>\n",
       "</tbody>\n",
       "</table>\n"
      ],
      "text/latex": [
       "A tibble: 2 × 4\n",
       "\\begin{tabular}{llll}\n",
       " Classes & n & average\\_temp & average\\_FWI\\\\\n",
       " <fct> & <int> & <dbl> & <dbl>\\\\\n",
       "\\hline\n",
       "\t not fire &  80 & 29.97500 &  0.92375\\\\\n",
       "\t fire     & 103 & 33.70874 & 11.84854\\\\\n",
       "\\end{tabular}\n"
      ],
      "text/markdown": [
       "\n",
       "A tibble: 2 × 4\n",
       "\n",
       "| Classes &lt;fct&gt; | n &lt;int&gt; | average_temp &lt;dbl&gt; | average_FWI &lt;dbl&gt; |\n",
       "|---|---|---|---|\n",
       "| not fire |  80 | 29.97500 |  0.92375 |\n",
       "| fire     | 103 | 33.70874 | 11.84854 |\n",
       "\n"
      ],
      "text/plain": [
       "  Classes  n   average_temp average_FWI\n",
       "1 not fire  80 29.97500      0.92375   \n",
       "2 fire     103 33.70874     11.84854   "
      ]
     },
     "metadata": {},
     "output_type": "display_data"
    }
   ],
   "source": [
    "forest_fires_untidy <- read_csv(file = \"https://archive.ics.uci.edu/ml/machine-learning-databases/00547/Algerian_forest_fires_dataset_UPDATE.csv\", \n",
    "                                skip = 1, col_names = TRUE, col_types = cols_only(\n",
    "                                      day = col_integer(),\n",
    "                                      month = col_integer(),\n",
    "                                      year = col_integer(),\n",
    "                                      Temperature = col_double(),\n",
    "                                      RH = col_double(),\n",
    "                                      Ws = col_double(),\n",
    "                                      Rain = col_double(),\n",
    "                                      FFMC = col_double(),\n",
    "                                      DMC = col_double(),\n",
    "                                      DC = col_double(),\n",
    "                                      ISI = col_double(),\n",
    "                                      BUI = col_double(),\n",
    "                                      FWI = col_double(),\n",
    "                                      Classes = col_character()))  \n",
    "  \n",
    "bejaia_region <- forest_fires_untidy %>%\n",
    "    slice(1:122) %>%\n",
    "    mutate(region = \"bejaia\")\n",
    "\n",
    "sidi_bel_region <- forest_fires_untidy %>%\n",
    "    slice(125:246) %>%\n",
    "    mutate(region = \"sidi bel abbes\")\n",
    "\n",
    "forest_fire_data <- rbind(bejaia_region, sidi_bel_region) \n",
    "\n",
    "fire_data <- forest_fire_data %>%\n",
    "     filter(!is.na(Classes)) %>%\n",
    "     select(day, month, Temperature, FWI, RH, Ws, Rain, Classes) %>%\n",
    "     mutate(Classes = as_factor(Classes))\n",
    "\n",
    "fire_data\n",
    "\n",
    "set.seed(1)\n",
    "fire_split <- initial_split(fire_data, prop = 0.75, strata = Classes)\n",
    "fire_train <- training(fire_split)\n",
    "fire_test <- testing(fire_split)\n",
    "\n",
    "fire_recipe <- recipe(Classes ~ month + Temperature + FWI, data = fire_train) %>%\n",
    "    step_scale(all_predictors()) %>%\n",
    "    step_center(all_predictors())\n",
    "\n",
    "set.seed(1)\n",
    "knn_spec <- nearest_neighbor(weight_func = \"rectangular\", neighbors = 3) %>%\n",
    "    set_engine(\"kknn\") %>%\n",
    "    set_mode(\"classification\")\n",
    "\n",
    "knn_fit <- workflow() %>%\n",
    "    add_recipe(fire_recipe) %>%\n",
    "    add_model(knn_spec) %>%\n",
    "    fit(data = fire_train)\n",
    "\n",
    "fire_test_predictions <- predict(knn_fit, fire_test) %>%\n",
    "    bind_cols(fire_test)\n",
    "\n",
    "fire_train %>%\n",
    "    group_by(Classes) %>%\n",
    "    summarize(n = n(),\n",
    "    average_temp = mean(Temperature),\n",
    "    average_FWI = mean(FWI))\n"
   ]
  },
  {
   "cell_type": "markdown",
   "metadata": {},
   "source": [
    "Now, we will find the optimum K value by performing a grid v-fold and setting neighbours to tune in our 'knn_spec'. CONTINUE FROM HERE WHEN CODE IS DONE"
   ]
  },
  {
   "cell_type": "code",
   "execution_count": 17,
   "metadata": {},
   "outputs": [
    {
     "data": {
      "text/html": [
       "3"
      ],
      "text/latex": [
       "3"
      ],
      "text/markdown": [
       "3"
      ],
      "text/plain": [
       "[1] 3"
      ]
     },
     "metadata": {},
     "output_type": "display_data"
    },
    {
     "data": {
      "image/png": "[encoded data removed]",
      "text/plain": [
       "plot without title"
      ]
     },
     "metadata": {
      "image/png": {
       "height": 420,
       "width": 420
      }
     },
     "output_type": "display_data"
    }
   ],
   "source": [
    "set.seed(1)\n",
    "fire_vfold <- vfold_cv(fire_train, v = 10,strata = Classes)\n",
    "\n",
    "best_knn_spec <- nearest_neighbor(weight_func = \"rectangular\", neighbors = tune()) %>%\n",
    "    set_engine(\"kknn\") %>%\n",
    "    set_mode(\"classification\")\n",
    "\n",
    "k_vals <- tibble(neighbors = seq(from = 1, to = 10, by = 1)) \n",
    "\n",
    "knn_results <- workflow() %>%\n",
    "    add_recipe(fire_recipe) %>%\n",
    "    add_model(best_knn_spec) %>%\n",
    "    tune_grid(resamples = fire_vfold, grid = k_vals) %>%\n",
    "    collect_metrics()\n",
    "\n",
    "accuracies <- knn_results %>%\n",
    "    filter(.metric == \"accuracy\")\n",
    "\n",
    "accuracy_plot <- ggplot(accuracies, aes(x = neighbors, y = mean)) +\n",
    "    geom_point() +\n",
    "    geom_line() +\n",
    "    labs (x = \"Neighbors\", y = \"Accuracy Estimate\")\n",
    "accuracy_plot\n",
    "\n",
    "best_neighbor <- accuracies %>%\n",
    "    arrange(desc(mean)) %>%\n",
    "    slice(1) %>%\n",
    "    pull(neighbors)\n",
    "\n",
    "best_neighbor"
   ]
  },
  {
   "cell_type": "code",
   "execution_count": 18,
   "metadata": {},
   "outputs": [
    {
     "data": {
      "text/html": [
       "<table>\n",
       "<caption>A tibble: 2 × 3</caption>\n",
       "<thead>\n",
       "\t<tr><th scope=col>.metric</th><th scope=col>.estimator</th><th scope=col>.estimate</th></tr>\n",
       "\t<tr><th scope=col>&lt;chr&gt;</th><th scope=col>&lt;chr&gt;</th><th scope=col>&lt;dbl&gt;</th></tr>\n",
       "</thead>\n",
       "<tbody>\n",
       "\t<tr><td>accuracy</td><td>binary</td><td>0.9</td></tr>\n",
       "\t<tr><td>kap     </td><td>binary</td><td>0.8</td></tr>\n",
       "</tbody>\n",
       "</table>\n"
      ],
      "text/latex": [
       "A tibble: 2 × 3\n",
       "\\begin{tabular}{lll}\n",
       " .metric & .estimator & .estimate\\\\\n",
       " <chr> & <chr> & <dbl>\\\\\n",
       "\\hline\n",
       "\t accuracy & binary & 0.9\\\\\n",
       "\t kap      & binary & 0.8\\\\\n",
       "\\end{tabular}\n"
      ],
      "text/markdown": [
       "\n",
       "A tibble: 2 × 3\n",
       "\n",
       "| .metric &lt;chr&gt; | .estimator &lt;chr&gt; | .estimate &lt;dbl&gt; |\n",
       "|---|---|---|\n",
       "| accuracy | binary | 0.9 |\n",
       "| kap      | binary | 0.8 |\n",
       "\n"
      ],
      "text/plain": [
       "  .metric  .estimator .estimate\n",
       "1 accuracy binary     0.9      \n",
       "2 kap      binary     0.8      "
      ]
     },
     "metadata": {},
     "output_type": "display_data"
    }
   ],
   "source": [
    "set.seed(1)\n",
    "knn_best_spec <- nearest_neighbor(weight_func = \"rectangular\", neighbors = best_neighbor) %>%\n",
    "    set_engine(\"kknn\") %>%\n",
    "    set_mode(\"classification\")\n",
    "\n",
    "knn_best_fit <- workflow() %>%\n",
    "    add_recipe(fire_recipe) %>%\n",
    "    add_model(knn_best_spec) %>%\n",
    "    fit(fire_train)\n",
    "\n",
    "fire_best_test_predictions <- predict(knn_best_fit, fire_test) %>%\n",
    "    bind_cols(fire_test)\n",
    "\n",
    "fire_best_accuracy <- fire_best_test_predictions %>%\n",
    "        metrics(truth = Classes, estimate = .pred_class)\n",
    "fire_best_accuracy"
   ]
  },
  {
   "cell_type": "code",
   "execution_count": null,
   "metadata": {},
   "outputs": [],
   "source": []
  }
 ],
 "metadata": {
  "kernelspec": {
   "display_name": "R",
   "language": "R",
   "name": "ir"
  },
  "language_info": {
   "codemirror_mode": "r",
   "file_extension": ".r",
   "mimetype": "text/x-r-source",
   "name": "R",
   "pygments_lexer": "r",
   "version": "4.0.0"
  }
 },
 "nbformat": 4,
 "nbformat_minor": 4
}
